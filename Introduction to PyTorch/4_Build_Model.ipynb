{
  "nbformat": 4,
  "nbformat_minor": 0,
  "metadata": {
    "colab": {
      "name": "4_Build Model.ipynb",
      "provenance": [],
      "collapsed_sections": []
    },
    "kernelspec": {
      "name": "python3",
      "display_name": "Python 3"
    },
    "language_info": {
      "name": "python"
    },
    "accelerator": "GPU"
  },
  "cells": [
    {
      "cell_type": "code",
      "metadata": {
        "id": "kGLVtEtCQrch"
      },
      "source": [
        "import os\n",
        "import torch\n",
        "from torch import nn\n",
        "from torch.utils.data import DataLoader\n",
        "from torchvision import datasets, transforms"
      ],
      "execution_count": 1,
      "outputs": []
    },
    {
      "cell_type": "code",
      "metadata": {
        "colab": {
          "base_uri": "https://localhost:8080/"
        },
        "id": "QAOMg0EKRs6W",
        "outputId": "4302e474-dc10-4f76-c47e-d9d7e3136da0"
      },
      "source": [
        "device = 'cuda' if torch.cuda.is_available() else 'cpu'\n",
        "print(f'Using {device} device')"
      ],
      "execution_count": 2,
      "outputs": [
        {
          "output_type": "stream",
          "text": [
            "Using cuda device\n"
          ],
          "name": "stdout"
        }
      ]
    },
    {
      "cell_type": "code",
      "metadata": {
        "id": "5ePOWCitRy9i"
      },
      "source": [
        "class NeuralNetwork(nn.Module):\n",
        "    def __init__(self):\n",
        "        super(NeuralNetwork, self).__init__()\n",
        "        self.flatten = nn.Flatten()\n",
        "        self.linear_relu_stack = nn.Sequential(\n",
        "            nn.Linear(28*28, 512),\n",
        "            nn.ReLU(),\n",
        "            nn.Linear(512, 512),\n",
        "            nn.ReLU(),\n",
        "            nn.Linear(512, 10),\n",
        "            nn.ReLU()\n",
        "        )\n",
        "\n",
        "    def forward(self, x):\n",
        "        x = self.flatten(x)\n",
        "        logits = self.linear_relu_stack(x)\n",
        "        return logits"
      ],
      "execution_count": 3,
      "outputs": []
    },
    {
      "cell_type": "code",
      "metadata": {
        "colab": {
          "base_uri": "https://localhost:8080/"
        },
        "id": "ANqxAe9_Suby",
        "outputId": "bf7b7c65-629c-4db5-d7c0-2d120a02b43a"
      },
      "source": [
        "model = NeuralNetwork().to(device)\n",
        "print(model)"
      ],
      "execution_count": 4,
      "outputs": [
        {
          "output_type": "stream",
          "text": [
            "NeuralNetwork(\n",
            "  (flatten): Flatten(start_dim=1, end_dim=-1)\n",
            "  (linear_relu_stack): Sequential(\n",
            "    (0): Linear(in_features=784, out_features=512, bias=True)\n",
            "    (1): ReLU()\n",
            "    (2): Linear(in_features=512, out_features=512, bias=True)\n",
            "    (3): ReLU()\n",
            "    (4): Linear(in_features=512, out_features=10, bias=True)\n",
            "    (5): ReLU()\n",
            "  )\n",
            ")\n"
          ],
          "name": "stdout"
        }
      ]
    },
    {
      "cell_type": "code",
      "metadata": {
        "colab": {
          "base_uri": "https://localhost:8080/"
        },
        "id": "Q54bqaa0SwTd",
        "outputId": "c1f709cb-d099-4007-cc4e-fc1b3d0e0833"
      },
      "source": [
        "X = torch.rand(1, 28, 28, device=device)\n",
        "logits = model(X)\n",
        "logits"
      ],
      "execution_count": 6,
      "outputs": [
        {
          "output_type": "execute_result",
          "data": {
            "text/plain": [
              "tensor([[0.0773, 0.0988, 0.0254, 0.0000, 0.0000, 0.0000, 0.0000, 0.0000, 0.0638,\n",
              "         0.1061]], device='cuda:0', grad_fn=<ReluBackward0>)"
            ]
          },
          "metadata": {
            "tags": []
          },
          "execution_count": 6
        }
      ]
    },
    {
      "cell_type": "code",
      "metadata": {
        "colab": {
          "base_uri": "https://localhost:8080/"
        },
        "id": "UVqgloDUUKbS",
        "outputId": "29ee59c7-19c4-4709-9840-418885250234"
      },
      "source": [
        "pred_prob = nn.Softmax(dim=1)(logits)\n",
        "pred_prob"
      ],
      "execution_count": 7,
      "outputs": [
        {
          "output_type": "execute_result",
          "data": {
            "text/plain": [
              "tensor([[0.1040, 0.1063, 0.0987, 0.0963, 0.0963, 0.0963, 0.0963, 0.0963, 0.1026,\n",
              "         0.1070]], device='cuda:0', grad_fn=<SoftmaxBackward>)"
            ]
          },
          "metadata": {
            "tags": []
          },
          "execution_count": 7
        }
      ]
    },
    {
      "cell_type": "code",
      "metadata": {
        "colab": {
          "base_uri": "https://localhost:8080/"
        },
        "id": "pSuhc9BNUW9J",
        "outputId": "25a317cd-fb1a-4540-8601-4327073c7588"
      },
      "source": [
        "y_pred = pred_prob.argmax(1)\n",
        "y_pred"
      ],
      "execution_count": 9,
      "outputs": [
        {
          "output_type": "execute_result",
          "data": {
            "text/plain": [
              "tensor([9], device='cuda:0')"
            ]
          },
          "metadata": {
            "tags": []
          },
          "execution_count": 9
        }
      ]
    },
    {
      "cell_type": "code",
      "metadata": {
        "colab": {
          "base_uri": "https://localhost:8080/"
        },
        "id": "UQn6NDytUk0Q",
        "outputId": "91136df6-07f7-4bf9-8952-af02320edbd7"
      },
      "source": [
        "input_image = torch.rand(3,28,28)\n",
        "print(input_image.size())"
      ],
      "execution_count": 11,
      "outputs": [
        {
          "output_type": "stream",
          "text": [
            "torch.Size([3, 28, 28])\n"
          ],
          "name": "stdout"
        }
      ]
    },
    {
      "cell_type": "code",
      "metadata": {
        "colab": {
          "base_uri": "https://localhost:8080/"
        },
        "id": "iM4O6mpFUuZX",
        "outputId": "5759f6b6-0bd0-48d6-a945-10bac7072d46"
      },
      "source": [
        "flatten = nn.Flatten()\n",
        "flat_image = flatten(input_image)\n",
        "print(flat_image.size())"
      ],
      "execution_count": 12,
      "outputs": [
        {
          "output_type": "stream",
          "text": [
            "torch.Size([3, 784])\n"
          ],
          "name": "stdout"
        }
      ]
    },
    {
      "cell_type": "code",
      "metadata": {
        "colab": {
          "base_uri": "https://localhost:8080/"
        },
        "id": "dGf1LJt_U6B9",
        "outputId": "02993381-936b-4f49-9bda-a5afdabf3713"
      },
      "source": [
        "layer1 = nn.Linear(in_features=28*28, out_features=20)\n",
        "hidden1 = layer1(flat_image)\n",
        "print(hidden1.size())"
      ],
      "execution_count": 13,
      "outputs": [
        {
          "output_type": "stream",
          "text": [
            "torch.Size([3, 20])\n"
          ],
          "name": "stdout"
        }
      ]
    },
    {
      "cell_type": "code",
      "metadata": {
        "colab": {
          "base_uri": "https://localhost:8080/"
        },
        "id": "qGjNlFa9VLtc",
        "outputId": "a80025d3-31e5-4c20-e110-1f30881af691"
      },
      "source": [
        "print(f\"Before ReLU: \\n{hidden1}\\n\\n\")\n",
        "hidden1 = nn.ReLU()(hidden1)\n",
        "print(f\"After ReLU: \\n{hidden1}\")"
      ],
      "execution_count": 15,
      "outputs": [
        {
          "output_type": "stream",
          "text": [
            "Before ReLU: \n",
            "tensor([[0.0000, 0.0000, 0.5178, 0.0000, 0.0000, 0.0000, 0.0000, 0.2425, 0.1112,\n",
            "         0.0016, 0.1629, 0.0000, 0.3936, 0.1417, 0.0000, 0.0506, 0.0000, 0.3435,\n",
            "         0.2514, 0.1812],\n",
            "        [0.0000, 0.2904, 0.4408, 0.0000, 0.0000, 0.0000, 0.0000, 0.4558, 0.0000,\n",
            "         0.3254, 0.1170, 0.0151, 0.4396, 0.0147, 0.0000, 0.2395, 0.0452, 0.5805,\n",
            "         0.3111, 0.0000],\n",
            "        [0.0000, 0.1322, 0.3438, 0.0000, 0.0000, 0.0000, 0.0000, 0.3535, 0.2384,\n",
            "         0.5229, 0.3461, 0.0096, 0.5250, 0.0920, 0.0000, 0.0998, 0.0274, 0.2297,\n",
            "         0.2314, 0.0000]], grad_fn=<ReluBackward0>)\n",
            "\n",
            "\n",
            "After ReLU: \n",
            "tensor([[0.0000, 0.0000, 0.5178, 0.0000, 0.0000, 0.0000, 0.0000, 0.2425, 0.1112,\n",
            "         0.0016, 0.1629, 0.0000, 0.3936, 0.1417, 0.0000, 0.0506, 0.0000, 0.3435,\n",
            "         0.2514, 0.1812],\n",
            "        [0.0000, 0.2904, 0.4408, 0.0000, 0.0000, 0.0000, 0.0000, 0.4558, 0.0000,\n",
            "         0.3254, 0.1170, 0.0151, 0.4396, 0.0147, 0.0000, 0.2395, 0.0452, 0.5805,\n",
            "         0.3111, 0.0000],\n",
            "        [0.0000, 0.1322, 0.3438, 0.0000, 0.0000, 0.0000, 0.0000, 0.3535, 0.2384,\n",
            "         0.5229, 0.3461, 0.0096, 0.5250, 0.0920, 0.0000, 0.0998, 0.0274, 0.2297,\n",
            "         0.2314, 0.0000]], grad_fn=<ReluBackward0>)\n"
          ],
          "name": "stdout"
        }
      ]
    },
    {
      "cell_type": "code",
      "metadata": {
        "colab": {
          "base_uri": "https://localhost:8080/"
        },
        "id": "HWmjgjFaVm6J",
        "outputId": "ed2973d1-c0e7-4ead-e2f3-22721693e733"
      },
      "source": [
        "seq_modules = nn.Sequential(\n",
        "    flatten,\n",
        "    layer1,\n",
        "    nn.ReLU(),\n",
        "    nn.Linear(20, 10)\n",
        ")\n",
        "input_image = torch.rand(3,28,28)\n",
        "logits = seq_modules(input_image)\n",
        "print(logits.shape)"
      ],
      "execution_count": 17,
      "outputs": [
        {
          "output_type": "stream",
          "text": [
            "torch.Size([3, 10])\n"
          ],
          "name": "stdout"
        }
      ]
    },
    {
      "cell_type": "code",
      "metadata": {
        "colab": {
          "base_uri": "https://localhost:8080/"
        },
        "id": "dWE-s1hhV4QG",
        "outputId": "c0d83f66-5f88-4277-fd3e-2ef9f665aee8"
      },
      "source": [
        "softmax = nn.Softmax(dim=1)\n",
        "pred_probab = softmax(logits)\n",
        "print(pred_probab.shape)"
      ],
      "execution_count": 18,
      "outputs": [
        {
          "output_type": "stream",
          "text": [
            "torch.Size([3, 10])\n"
          ],
          "name": "stdout"
        }
      ]
    },
    {
      "cell_type": "code",
      "metadata": {
        "colab": {
          "base_uri": "https://localhost:8080/"
        },
        "id": "VpUZF4vOYWKP",
        "outputId": "3a55ebca-31a5-40ed-acb1-7ed7c20a9333"
      },
      "source": [
        "print(\"Model structure: \", model, \"\\n\\n\")\n",
        "\n",
        "for name, param in model.named_parameters():\n",
        "    print(f\"Layer: {name} | Size: {param.size()} | Values : {param[:2]} \\n\")"
      ],
      "execution_count": 19,
      "outputs": [
        {
          "output_type": "stream",
          "text": [
            "Model structure:  NeuralNetwork(\n",
            "  (flatten): Flatten(start_dim=1, end_dim=-1)\n",
            "  (linear_relu_stack): Sequential(\n",
            "    (0): Linear(in_features=784, out_features=512, bias=True)\n",
            "    (1): ReLU()\n",
            "    (2): Linear(in_features=512, out_features=512, bias=True)\n",
            "    (3): ReLU()\n",
            "    (4): Linear(in_features=512, out_features=10, bias=True)\n",
            "    (5): ReLU()\n",
            "  )\n",
            ") \n",
            "\n",
            "\n",
            "Layer: linear_relu_stack.0.weight | Size: torch.Size([512, 784]) | Values : tensor([[ 0.0232,  0.0004, -0.0018,  ..., -0.0188, -0.0048, -0.0278],\n",
            "        [-0.0051,  0.0199, -0.0269,  ..., -0.0337,  0.0200, -0.0197]],\n",
            "       device='cuda:0', grad_fn=<SliceBackward>) \n",
            "\n",
            "Layer: linear_relu_stack.0.bias | Size: torch.Size([512]) | Values : tensor([-0.0177, -0.0343], device='cuda:0', grad_fn=<SliceBackward>) \n",
            "\n",
            "Layer: linear_relu_stack.2.weight | Size: torch.Size([512, 512]) | Values : tensor([[ 0.0269,  0.0439,  0.0333,  ...,  0.0300,  0.0315,  0.0436],\n",
            "        [ 0.0433,  0.0397, -0.0439,  ..., -0.0287,  0.0390, -0.0072]],\n",
            "       device='cuda:0', grad_fn=<SliceBackward>) \n",
            "\n",
            "Layer: linear_relu_stack.2.bias | Size: torch.Size([512]) | Values : tensor([0.0024, 0.0054], device='cuda:0', grad_fn=<SliceBackward>) \n",
            "\n",
            "Layer: linear_relu_stack.4.weight | Size: torch.Size([10, 512]) | Values : tensor([[ 0.0009,  0.0305,  0.0398,  ..., -0.0100, -0.0059,  0.0002],\n",
            "        [-0.0299,  0.0127,  0.0141,  ..., -0.0181, -0.0138, -0.0414]],\n",
            "       device='cuda:0', grad_fn=<SliceBackward>) \n",
            "\n",
            "Layer: linear_relu_stack.4.bias | Size: torch.Size([10]) | Values : tensor([0.0349, 0.0345], device='cuda:0', grad_fn=<SliceBackward>) \n",
            "\n"
          ],
          "name": "stdout"
        }
      ]
    },
    {
      "cell_type": "code",
      "metadata": {
        "id": "hUOl3ZigdWNr"
      },
      "source": [
        ""
      ],
      "execution_count": null,
      "outputs": []
    }
  ]
}